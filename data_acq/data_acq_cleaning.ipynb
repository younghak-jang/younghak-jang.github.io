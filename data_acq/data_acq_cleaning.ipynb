{
 "cells": [
  {
   "cell_type": "markdown",
   "metadata": {},
   "source": [
    "James Route/12 Dec 2015\n",
    "\n",
    "**This is the code for acquring data from Quandl, cleaning it, and handling additional processing.**\n",
    "\n",
    "First we import libraries and set up global variables."
   ]
  },
  {
   "cell_type": "code",
   "execution_count": 2,
   "metadata": {
    "collapsed": false
   },
   "outputs": [],
   "source": [
    "# required libraries\n",
    "import Quandl\n",
    "import pandas as pd\n",
    "\n",
    "# local file containing authorization token for (free) Quandl account\n",
    "from creds import quandl_token\n",
    "\n",
    "# set up a dict for month codes indexed from 0 to 11.\n",
    "month_coding = {0:'F', 1:'G', 2:'H', 3:'J', 4:'K', 5:'M', 6:'N', 7:'Q', 8:'U', 9:'V', \n",
    "                10:'X', 11:'Z'}"
   ]
  },
  {
   "cell_type": "markdown",
   "metadata": {},
   "source": [
    "**Function that retrieves data for a single commodity from the ICE (Intercontinental Exchange) source in Quandl and outputs a csv in the format we need.**"
   ]
  },
  {
   "cell_type": "code",
   "execution_count": 1,
   "metadata": {
    "collapsed": false,
    "scrolled": false
   },
   "outputs": [],
   "source": [
    "# this function pulls commodities data from Quandl and outputs a sorted csv file\n",
    "# start, end specify an inclusive year range for contracts\n",
    "# code is the one- or two-char code for the commodity\n",
    "# label is used to name the output file\n",
    "def get_data_ice(start, end, code, label):\n",
    "    end += 1  # add 1 to end year since second argument to range() is non-inclusive\n",
    "    \n",
    "    # pull data for each year in the range\n",
    "    for yr in xrange(start, end):\n",
    "        print \"retrieving: \", yr\n",
    "        for mo in range(12):\n",
    "            \n",
    "            # set up string used to retrieve data from Quandl, then get data\n",
    "            retrieve = \"ICE/\"+code+month_coding[mo]+str(yr)\n",
    "            try:\n",
    "                df = Quandl.get(retrieve, authtoken=quandl_token)\n",
    "            except Exception, e:\n",
    "                continue\n",
    "\n",
    "            # remove unnecessary cols, add two new cols for contract code and delivery date\n",
    "            df = df.drop(df.columns[[4,5,8,9,10]], axis=1)\n",
    "            contract_name = code+str(yr % 100).zfill(2)+month_coding[mo]\n",
    "            delivery = str(mo+1)+'/01/'+str(yr)\n",
    "            df['contract'] = contract_name\n",
    "            df['delivery'] = delivery\n",
    "            \n",
    "            # create new index, current index is trade date. this way we can reshuffle cols\n",
    "            df = df.reset_index()\n",
    "            \n",
    "            # reorder cols to fit data format\n",
    "            cols = df.columns.tolist()\n",
    "            cols = cols[-1:] + cols[:-1]\n",
    "            cols = cols[-1:] + cols[:-1]\n",
    "            df = df[cols]\n",
    "            \n",
    "            # write dataframe contents to csv. exclude rows with no data\n",
    "            df[df['Open'] > 0].to_csv(label+'.csv', header=False, index=False, mode='a', \n",
    "                                            date_format=\"%m/%d/%Y\")\n",
    "\n",
    "    # sort output by trade date\n",
    "    !sort --field-separator=',' -k3.7,3.10n -k3.1,3.2n -k3.4,3.5n {label+\".csv\"} > {label+\"_sorted.csv\"}\n",
    "    !rm {label+\".csv\"}\n",
    "\n",
    "# get data on all cocoa contracts from 1970 to 2020\n",
    "get_data_ice(1970, 2020, \"CC\", \"cocoa\")\n",
    "\n",
    "# get data on all cotton contracts from 1970 to 2020\n",
    "get_data_ice(1970, 2020, \"CT\", \"cotton\")"
   ]
  },
  {
   "cell_type": "markdown",
   "metadata": {},
   "source": [
    "**Function to get data for a single commodity from the CME (Chicago Mercantile Exchange) source in Quandl. This source has a different format from ICE.**"
   ]
  },
  {
   "cell_type": "code",
   "execution_count": 2,
   "metadata": {
    "collapsed": false
   },
   "outputs": [],
   "source": [
    "# retrieve data from the Quandl's CME source\n",
    "# start, end specify an inclusive year range for contracts\n",
    "# code is the one- or two-char code for the commodity\n",
    "# label is used to name the output file\n",
    "def get_data_cme(start, end, code, label):\n",
    "    end += 1  # add 1 to end year since second argument to range() is non-inclusive\n",
    "    \n",
    "    # pull data for each year in the range\n",
    "    for yr in xrange(start, end):\n",
    "        print \"retrieving: \", yr\n",
    "        for mo in range(12):\n",
    "            \n",
    "            # set up string used to retrieve data from Quandl, then get data\n",
    "            retrieve = \"CME/\"+code+month_coding[mo]+str(yr)\n",
    "            try:\n",
    "                df = Quandl.get(retrieve, authtoken=quandl_token)\n”,
    "            except Exception, e:\n",
    "                #print e\n",
    "                continue\n",
    "\n",
    "            # remove unnecessary cols, add two new cols for contract code and delivery date\n",
    "            df = df.drop(data.columns[[3,4]], axis=1)\n",
    "            contract_name = code+str(yr % 100).zfill(2)+month_coding[mo]\n",
    "            delivery = str(mo+1)+'/01/'+str(yr)\n",
    "            df['contract'] = contract_name\n",
    "            df['delivery'] = delivery\n",
    "            \n",
    "            # create new index, current index is trade date. this way we can reshuffle cols\n",
    "            df = df.reset_index()\n",
    "            \n",
    "            # reorder cols to fit data format\n",
    "            cols = df.columns.tolist()\n",
    "            cols = cols[-1:] + cols[:-1]\n",
    "            cols = cols[-1:] + cols[:-1]\n",
    "            df = df[cols]\n",
    "            \n",
    "            # write dataframe contents to csv. exclude rows with no data\n",
    "            df[df['Open'] > 0].to_csv(label+'.csv', header=False, index=False, mode='a', \n",
    "                                            date_format=\"%m/%d/%Y\")\n",
    "\n",
    "    # sort output by trade date\n",
    "    !sort --field-separator=',' -k3.7,3.10n -k3.1,3.2n -k3.4,3.5n {label+\".csv\"} > {label+\"_sorted.csv\"}\n",
    "    !rm {label+\".csv\"}\n",
    "    \n",
    "# get data on all corn contracts from 1960 to 2016\n",
    "get_data_cme(1960, 2016, \"C\", \"corn\")\n",
    "\n",
    "# get data on all oats contracts from 1960 to 2016\n",
    "get_data_cme(1960, 2016, \"O\", \"oats\")"
   ]
  },
  {
   "cell_type": "markdown",
   "metadata": {},
   "source": [
    "**Function that converts the units in the csv from cents to dollars. Necessary to because not all of the datasets are reported with the same units.**"
   ]
  },
  {
   "cell_type": "code",
   "execution_count": 6,
   "metadata": {
    "collapsed": false
   },
   "outputs": [],
   "source": [
    "# function takes target filename as argument, appends _mod to filename for output\n",
    "# calls awk script that copies the contents of each input line to output, first dividing\n",
    "# columns 4, 5, 6, and 7 by 100\n",
    "# NOTE: braces and dollar signs must be doubled in awk script to run in ipython\n",
    "def convert(fname):\n",
    "    !awk 'BEGIN {{FS = \",\"}} ; {{print $$1\",\"$$2\",\"$$3\",\"$$4/100\",\"$$5/100\",\"$$6/100\",\"$$7/100\",\"$$8\",\"$$9}}' {fname} > {fname + \"_mod\"}\n",
    "    \n",
    "# convert the canola data from cents to dollars\n",
    "convert(\"canola_sorted_1980-2017.csv\")"
   ]
  }
 ],
 "metadata": {
  "kernelspec": {
   "display_name": "Python 2",
   "language": "python",
   "name": "python2"
  },
  "language_info": {
   "codemirror_mode": {
    "name": "ipython",
    "version": 2
   },
   "file_extension": ".py",
   "mimetype": "text/x-python",
   "name": "python",
   "nbconvert_exporter": "python",
   "pygments_lexer": "ipython2",
   "version": "2.7.10"
  }
 },
 "nbformat": 4,
 "nbformat_minor": 0
}
